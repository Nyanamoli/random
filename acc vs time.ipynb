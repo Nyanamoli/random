{
 "cells": [
  {
   "cell_type": "code",
   "execution_count": 14,
   "metadata": {},
   "outputs": [],
   "source": [
    "import csv\n",
    "import numpy as np\n",
    "import matplotlib\n",
    "import matplotlib.pyplot as plt\n",
    "%matplotlib inline"
   ]
  },
  {
   "cell_type": "code",
   "execution_count": 22,
   "metadata": {},
   "outputs": [
    {
     "name": "stdout",
     "output_type": "stream",
     "text": [
      "[1.4557 1.4557 1.6855 ... 1.8387 1.8771 1.4174]\n",
      "[0.000e+00 3.000e-02 6.000e-02 ... 3.321e+01 3.324e+01 3.327e+01]\n",
      "878.1266841075272\n"
     ]
    },
    {
     "data": {
      "text/plain": [
       "[<matplotlib.lines.Line2D at 0x163cc6a2308>]"
      ]
     },
     "execution_count": 22,
     "metadata": {},
     "output_type": "execute_result"
    },
    {
     "data": {
      "image/png": "[encoded data removed]",
      "text/plain": [
       "<Figure size 432x288 with 1 Axes>"
      ]
     },
     "metadata": {
      "needs_background": "light"
     },
     "output_type": "display_data"
    }
   ],
   "source": [
    "with open (\"t2_new.csv\") as acc:\n",
    "    acc = np.loadtxt(acc, delimiter=\",\")\n",
    "t=np.zeros(len(acc))\n",
    "t[0]=0\n",
    "for i in range(1,len(acc)):\n",
    "    t[i]=t[i-1]+0.03\n",
    "    \n",
    "print(acc)\n",
    "print(t)\n",
    "len(acc)    \n",
    "#plt.plot(t,acc)\n",
    "\n",
    "u=0\n",
    "s=np.zeros(len(acc))\n",
    "for i in range(len(acc)-1):\n",
    "    avg_a=(acc[i]+acc[i+1])/2\n",
    "    s[i+1]=s[i] + u*(t[i+1]-t[i]) + 0.5*avg_a*(t[i+1]-t[i])**2\n",
    "    u=u+avg_a*(t[i+1]-t[i])\n",
    "\n",
    "print(s[len(s)-1])\n",
    "plt.plot(t,s)"
   ]
  },
  {
   "cell_type": "code",
   "execution_count": null,
   "metadata": {},
   "outputs": [],
   "source": [
    "#"
   ]
  }
 ],
 "metadata": {
  "kernelspec": {
   "display_name": "Python 3",
   "language": "python",
   "name": "python3"
  },
  "language_info": {
   "codemirror_mode": {
    "name": "ipython",
    "version": 3
   },
   "file_extension": ".py",
   "mimetype": "text/x-python",
   "name": "python",
   "nbconvert_exporter": "python",
   "pygments_lexer": "ipython3",
   "version": "3.7.6"
  }
 },
 "nbformat": 4,
 "nbformat_minor": 4
}
